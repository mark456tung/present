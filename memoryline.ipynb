{
 "cells": [
  {
   "cell_type": "code",
   "execution_count": 1,
   "id": "48f2f052",
   "metadata": {},
   "outputs": [
    {
     "name": "stdout",
     "output_type": "stream",
     "text": [
      "請輸入閱讀的科目(輸入0終止):ds\n",
      "請輸入範圍p1~p14\n",
      "請輸入閱讀時間80\n",
      "<pymongo.results.UpdateResult object at 0x00000174C369A740>\n",
      "{'ds': [{'範圍': 'p1~p14', 'time': '80'}]}\n",
      "請輸入網址或閱讀的科目及頁數(輸入0終止):ds\n",
      "請輸入範圍https://www.geeksforgeeks.org/write-a-c-program-to-print-all-permutations-of-a-given-string/\n",
      "請輸入閱讀時間10\n",
      "<pymongo.results.UpdateResult object at 0x00000174C369A2C0>\n",
      "{'ds': [{'範圍': 'https://www.geeksforgeeks.org/write-a-c-program-to-print-all-permutations-of-a-given-string/', 'time': '10'}]}\n",
      "請輸入網址或閱讀的科目及頁數(輸入0終止):0\n"
     ]
    }
   ],
   "source": [
    "import pymongo\n",
    "from datetime import datetime, date\n",
    "now = datetime.now()\n",
    "today = date.today()\n",
    "myclient = pymongo.MongoClient(\"mongodb://localhost:27017/\")\n",
    "mydb = myclient.study\n",
    "mycol = mydb[\"record\"]\n",
    "\n",
    "x=str(input(\"請輸入閱讀的科目(輸入0終止):\"))\n",
    "doc = {\"date\":str(today)}\n",
    "mycol.update_one(doc, {\"$set\":doc}, upsert=True)\n",
    "while(x!=\"0\"):\n",
    "    mydict = { \"{}\".format(x):[{\"範圍\":str(input(\"請輸入範圍\")),\"time\": str(input(\"請輸入閱讀時間\"))}] }\n",
    "   \n",
    "    y = mycol.update_many({\"date\":str(today)},{\"$push\":mydict}) \n",
    "    print(y)\n",
    "    print(mydict)\n",
    "    x = input(\"請輸入網址或閱讀的科目及頁數(輸入0終止):\")\n",
    " "
   ]
  },
  {
   "cell_type": "code",
   "execution_count": 3,
   "id": "764ccf6f",
   "metadata": {},
   "outputs": [],
   "source": [
    "from datetime import timedelta\n",
    "daylist = []\n",
    "dayago = [1,3,7,15,31,63]\n",
    "for i in dayago:\n",
    "    daylist.append(today - timedelta(days=i))\n",
    "\n",
    "\n",
    "for day in daylist:\n",
    "    for i in mycol.find({'date': str(day)}):\n",
    "        print(i)\n",
    "    \n"
   ]
  },
  {
   "cell_type": "code",
   "execution_count": 15,
   "id": "98f48142",
   "metadata": {},
   "outputs": [],
   "source": [
    "for day in daylist:\n",
    "    for i in mycol.find({'date': str(day)}):\n",
    "        print(i)\n",
    "    "
   ]
  },
  {
   "cell_type": "code",
   "execution_count": 2,
   "id": "f07860cb",
   "metadata": {},
   "outputs": [
    {
     "name": "stdout",
     "output_type": "stream",
     "text": [
      "{'_id': ObjectId('610ea574932b6570e8fb4cd8'), 'date': '2021-08-07', 'ds': [[{'範圍': 'p1~p14', 'time': '80'}], [{'範圍': 'https://www.geeksforgeeks.org/write-a-c-program-to-print-all-permutations-of-a-given-string/', 'time': '10'}]]}\n"
     ]
    }
   ],
   "source": [
    "for i in mycol.find():\n",
    "    print(i)"
   ]
  },
  {
   "cell_type": "code",
   "execution_count": null,
   "id": "ad1bab28",
   "metadata": {},
   "outputs": [],
   "source": []
  }
 ],
 "metadata": {
  "kernelspec": {
   "display_name": "Python 3",
   "language": "python",
   "name": "python3"
  },
  "language_info": {
   "codemirror_mode": {
    "name": "ipython",
    "version": 3
   },
   "file_extension": ".py",
   "mimetype": "text/x-python",
   "name": "python",
   "nbconvert_exporter": "python",
   "pygments_lexer": "ipython3",
   "version": "3.8.8"
  }
 },
 "nbformat": 4,
 "nbformat_minor": 5
}
